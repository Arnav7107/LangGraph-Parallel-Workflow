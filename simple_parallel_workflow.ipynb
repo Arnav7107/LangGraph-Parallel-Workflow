{
 "cells": [
  {
   "cell_type": "code",
   "execution_count": 2,
   "id": "0ae796cb",
   "metadata": {},
   "outputs": [],
   "source": [
    "from langgraph.graph import StateGraph, START, END\n",
    "from langchain_google_genai import ChatGoogleGenerativeAI\n",
    "from dotenv import load_dotenv\n",
    "from typing import TypedDict"
   ]
  },
  {
   "cell_type": "code",
   "execution_count": 8,
   "id": "e7ddab49",
   "metadata": {},
   "outputs": [],
   "source": [
    "class BatsmanState(TypedDict):\n",
    "    runs: int\n",
    "    balls: int\n",
    "    fours: int\n",
    "    sixes: int\n",
    "    \n",
    "    sr: float\n",
    "    bpb: float\n",
    "    boundary_percent: float\n",
    "    summary : str\n",
    "    \n",
    "    "
   ]
  },
  {
   "cell_type": "code",
   "execution_count": 4,
   "id": "4abecdbc",
   "metadata": {},
   "outputs": [],
   "source": [
    "def get_sr(state : BatsmanState):\n",
    "    runs = state['runs']\n",
    "    balls = state['balls']\n",
    "    \n",
    "    sr = (runs / balls) * 100\n",
    "    \n",
    "    return {state['sr'] : sr}\n",
    "    "
   ]
  },
  {
   "cell_type": "code",
   "execution_count": 9,
   "id": "e13770f2",
   "metadata": {},
   "outputs": [],
   "source": [
    "def summary(state : BatsmanState):\n",
    "    summary = f\"\"\"\n",
    "    Strike Rate - {state['sr']} \\n\n",
    "    Balls per boundary {state['bpb']} \\n\n",
    "    Boundary percent {state['boundary_percent']}\n",
    "    \"\"\"\n",
    "    \n",
    "    return {state['summary'] : summary}\n"
   ]
  },
  {
   "cell_type": "code",
   "execution_count": 6,
   "id": "acc677aa",
   "metadata": {},
   "outputs": [],
   "source": [
    "def get_bpb(state: BatsmanState):\n",
    "    bpb = state['balls']/(state['fours'] + state['sixes'])\n",
    "    \n",
    "    return {state['bpb'] : bpb}\n"
   ]
  },
  {
   "cell_type": "code",
   "execution_count": 7,
   "id": "d58a76ef",
   "metadata": {},
   "outputs": [],
   "source": [
    "def get_boundary_percent(state : BatsmanState):\n",
    "    boundary_percent = (((state['fours'] * 4) + (state['sixes'] * 6))/state['runs'])*100\n",
    "   \n",
    "    return { state['boundary_percent'] : boundary_percent}\n"
   ]
  },
  {
   "cell_type": "code",
   "execution_count": null,
   "id": "afc50125",
   "metadata": {},
   "outputs": [
    {
     "data": {
      "text/plain": [
       "<langgraph.graph.state.StateGraph at 0x119472d50>"
      ]
     },
     "execution_count": 11,
     "metadata": {},
     "output_type": "execute_result"
    }
   ],
   "source": [
    "graph = StateGraph(BatsmanState)\n",
    "\n",
    "graph.add_node('get_sr', get_sr)\n",
    "graph.add_node('get_bpb', get_bpb)\n",
    "graph.add_node('get_boundary_percent', get_boundary_percent)\n",
    "graph.add_node('summary', summary)\n",
    "\n"
   ]
  },
  {
   "cell_type": "code",
   "execution_count": null,
   "id": "33931b42",
   "metadata": {},
   "outputs": [],
   "source": []
  }
 ],
 "metadata": {
  "kernelspec": {
   "display_name": "myenv",
   "language": "python",
   "name": "python3"
  },
  "language_info": {
   "codemirror_mode": {
    "name": "ipython",
    "version": 3
   },
   "file_extension": ".py",
   "mimetype": "text/x-python",
   "name": "python",
   "nbconvert_exporter": "python",
   "pygments_lexer": "ipython3",
   "version": "3.13.0"
  }
 },
 "nbformat": 4,
 "nbformat_minor": 5
}
