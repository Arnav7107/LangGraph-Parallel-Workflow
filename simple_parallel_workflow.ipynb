{
 "cells": [
  {
   "cell_type": "code",
   "execution_count": 21,
   "id": "0ae796cb",
   "metadata": {},
   "outputs": [],
   "source": [
    "from langgraph.graph import StateGraph, START, END\n",
    "from langchain_google_genai import ChatGoogleGenerativeAI\n",
    "from dotenv import load_dotenv\n",
    "from typing import TypedDict"
   ]
  },
  {
   "cell_type": "code",
   "execution_count": 22,
   "id": "e7ddab49",
   "metadata": {},
   "outputs": [],
   "source": [
    "class BatsmanState(TypedDict):\n",
    "    runs: int\n",
    "    balls: int\n",
    "    fours: int\n",
    "    sixes: int\n",
    "    \n",
    "    sr: float\n",
    "    bpb: float\n",
    "    boundary_percent: float\n",
    "    summary : str\n",
    "    \n",
    "    "
   ]
  },
  {
   "cell_type": "code",
   "execution_count": 23,
   "id": "4abecdbc",
   "metadata": {},
   "outputs": [],
   "source": [
    "def get_sr(state : BatsmanState):\n",
    "    runs = state['runs']\n",
    "    balls = state['balls']\n",
    "    \n",
    "    sr = (runs / balls) * 100\n",
    "    \n",
    "    return {'sr' : sr}\n",
    "    "
   ]
  },
  {
   "cell_type": "code",
   "execution_count": 24,
   "id": "e13770f2",
   "metadata": {},
   "outputs": [],
   "source": [
    "def get_summary(state : BatsmanState):\n",
    "    summary = f\"\"\"\n",
    "    Strike Rate - {state['sr']} \\n\n",
    "    Balls per boundary {state['bpb']} \\n\n",
    "    Boundary percent {state['boundary_percent']}\n",
    "    \"\"\"\n",
    "    \n",
    "    return {'summary' : summary}\n"
   ]
  },
  {
   "cell_type": "code",
   "execution_count": 25,
   "id": "acc677aa",
   "metadata": {},
   "outputs": [],
   "source": [
    "def get_bpb(state: BatsmanState):\n",
    "    bpb = state['balls']/(state['fours'] + state['sixes'])\n",
    "    \n",
    "    return {'bpb' : bpb}\n"
   ]
  },
  {
   "cell_type": "code",
   "execution_count": 26,
   "id": "d58a76ef",
   "metadata": {},
   "outputs": [],
   "source": [
    "def get_boundary_percent(state : BatsmanState):\n",
    "    boundary_percent = (((state['fours'] * 4) + (state['sixes'] * 6))/state['runs'])*100\n",
    "   \n",
    "    return {'boundary_percent' : boundary_percent}\n"
   ]
  },
  {
   "cell_type": "code",
   "execution_count": 27,
   "id": "afc50125",
   "metadata": {},
   "outputs": [
    {
     "data": {
      "image/png": "[encoded data removed]",
      "text/plain": [
       "<langgraph.graph.state.CompiledStateGraph object at 0x119471810>"
      ]
     },
     "execution_count": 27,
     "metadata": {},
     "output_type": "execute_result"
    }
   ],
   "source": [
    "graph = StateGraph(BatsmanState)\n",
    "\n",
    "graph.add_node('get_sr', get_sr)\n",
    "graph.add_node('get_bpb', get_bpb)\n",
    "graph.add_node('get_boundary_percent', get_boundary_percent)\n",
    "graph.add_node('get_summary', get_summary)\n",
    "\n",
    "graph.add_edge(START, 'get_sr')\n",
    "graph.add_edge(START, 'get_bpb')\n",
    "graph.add_edge(START, 'get_boundary_percent')\n",
    "\n",
    "graph.add_edge('get_sr', 'get_summary')\n",
    "graph.add_edge('get_bpb', 'get_summary')\n",
    "graph.add_edge('get_boundary_percent', 'get_summary')\n",
    "\n",
    "graph.add_edge('get_summary', END)\n",
    "\n",
    "\n",
    "workflow = graph.compile()\n",
    "workflow\n"
   ]
  },
  {
   "cell_type": "code",
   "execution_count": 28,
   "id": "33931b42",
   "metadata": {},
   "outputs": [
    {
     "name": "stdout",
     "output_type": "stream",
     "text": [
      "{'runs': 100, 'balls': 50, 'fours': 6, 'sixes': 4, 'sr': 200.0, 'bpb': 5.0, 'boundary_percent': 48.0, 'summary': '\\n    Strike Rate - 200.0 \\n\\n    Balls per boundary 5.0 \\n\\n    Boundary percent 48.0\\n    '}\n"
     ]
    }
   ],
   "source": [
    "initial_state = {\n",
    "    'runs' : 100,\n",
    "    'balls' : 50,\n",
    "    'fours' : 6,\n",
    "    'sixes' : 4\n",
    "}\n",
    "final_state = workflow.invoke(initial_state)\n",
    "print(final_state)"
   ]
  },
  {
   "cell_type": "code",
   "execution_count": null,
   "id": "92d771e2",
   "metadata": {},
   "outputs": [],
   "source": []
  }
 ],
 "metadata": {
  "kernelspec": {
   "display_name": "myenv",
   "language": "python",
   "name": "python3"
  },
  "language_info": {
   "codemirror_mode": {
    "name": "ipython",
    "version": 3
   },
   "file_extension": ".py",
   "mimetype": "text/x-python",
   "name": "python",
   "nbconvert_exporter": "python",
   "pygments_lexer": "ipython3",
   "version": "3.13.0"
  }
 },
 "nbformat": 4,
 "nbformat_minor": 5
}
