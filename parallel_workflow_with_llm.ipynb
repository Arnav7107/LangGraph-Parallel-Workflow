{
 "cells": [
  {
   "cell_type": "code",
   "execution_count": 4,
   "id": "4ccc8a4f",
   "metadata": {},
   "outputs": [],
   "source": [
    "from langgraph.graph import StateGraph, START, END\n",
    "from langchain_google_genai import ChatGoogleGenerativeAI\n",
    "from dotenv import load_dotenv\n",
    "from typing import TypedDict, Annotated\n",
    "from pydantic import BaseModel, Field\n",
    "import operator\n"
   ]
  },
  {
   "cell_type": "code",
   "execution_count": 11,
   "id": "4ab3aa76",
   "metadata": {},
   "outputs": [
    {
     "data": {
      "text/plain": [
       "AIMessage(content='Hello! How can I help you today?', additional_kwargs={}, response_metadata={'prompt_feedback': {'block_reason': 0, 'safety_ratings': []}, 'finish_reason': 'STOP', 'model_name': 'gemini-2.5-flash', 'safety_ratings': []}, id='run--fd6d427d-f019-4171-b2e9-7efb553f5548-0', usage_metadata={'input_tokens': 2, 'output_tokens': 491, 'total_tokens': 493, 'input_token_details': {'cache_read': 0}, 'output_token_details': {'reasoning': 482}})"
      ]
     },
     "execution_count": 11,
     "metadata": {},
     "output_type": "execute_result"
    }
   ],
   "source": [
    "load_dotenv()\n",
    "model = ChatGoogleGenerativeAI(model = 'gemini-2.5-flash')\n",
    "model.invoke('hi')\n"
   ]
  },
  {
   "cell_type": "code",
   "execution_count": 6,
   "id": "eb2ed933",
   "metadata": {},
   "outputs": [],
   "source": [
    "class EvaluationSchema(BaseModel):\n",
    "\n",
    "    feedback: str = Field(description='Detailed feedback for the essay')\n",
    "    score: int = Field(description='Score the essay out of 10', ge=0, le=10)"
   ]
  },
  {
   "cell_type": "code",
   "execution_count": 13,
   "id": "4b08d3cf",
   "metadata": {},
   "outputs": [],
   "source": [
    "structured_model = model.with_structured_output(EvaluationSchema)"
   ]
  },
  {
   "cell_type": "code",
   "execution_count": 8,
   "id": "035ab49f",
   "metadata": {},
   "outputs": [],
   "source": [
    "essay = \"\"\" Generative AI in Today's World\n",
    "\n",
    "Generative AI (GenAI) has emerged as one of the most transformative technologies of the modern era. By enabling machines to create human-like text, images, music, and even code, GenAI is reshaping how people work, learn, and innovate. Unlike traditional AI systems that only analyze data, GenAI models actively produce new content, unlocking creativity at scale. \n",
    "\n",
    "In today's world, businesses leverage GenAI to automate customer support, draft reports, and accelerate product design. In education, it serves as a virtual tutor, simplifying complex concepts and personalizing learning experiences. Creative industries use it to generate art, advertisements, and storytelling ideas, while researchers employ it to explore new scientific hypotheses.\n",
    "\n",
    "However, GenAI also raises important challenges. Concerns around misinformation, deepfakes, data privacy, and job displacement demand responsible usage. Ethical frameworks and transparency in AI systems are essential to ensure the technology benefits society as a whole.\n",
    "\n",
    "Ultimately, GenAI represents both a tool and a responsibility. When used thoughtfully, it can enhance human potential, reduce repetitive work, and foster innovation, making it one of the most significant advancements shaping today's digital landscape.\n",
    "\"\"\""
   ]
  },
  {
   "cell_type": "code",
   "execution_count": 16,
   "id": "3b5cd4ed",
   "metadata": {},
   "outputs": [
    {
     "data": {
      "text/plain": [
       "EvaluationSchema(feedback='The essay is well-structured and easy to follow, using clear and concise language. It effectively covers the key aspects of Generative AI, including its applications, benefits, and challenges. The vocabulary is appropriate, and there are no noticeable grammatical errors or spelling mistakes. The flow between paragraphs is smooth, making it a highly readable and informative piece.', score=9)"
      ]
     },
     "execution_count": 16,
     "metadata": {},
     "output_type": "execute_result"
    }
   ],
   "source": [
    "prompt = f'Evaluate the language quality of the following essay and provide a feedback and assign a score out of 10 \\n {essay}'\n",
    "output = structured_model.invoke(prompt)\n",
    "output\n"
   ]
  },
  {
   "cell_type": "code",
   "execution_count": 17,
   "id": "cf79b72e",
   "metadata": {},
   "outputs": [],
   "source": [
    "class UPSCState(TypedDict):\n",
    "\n",
    "    essay: str\n",
    "    language_feedback: str\n",
    "    analysis_feedback: str\n",
    "    clarity_feedback: str\n",
    "    overall_feedback: str\n",
    "    individual_scores: Annotated[list[int], operator.add]\n",
    "    avg_score: float\n"
   ]
  },
  {
   "cell_type": "code",
   "execution_count": null,
   "id": "767c0f72",
   "metadata": {},
   "outputs": [],
   "source": []
  }
 ],
 "metadata": {
  "kernelspec": {
   "display_name": "myenv",
   "language": "python",
   "name": "python3"
  },
  "language_info": {
   "codemirror_mode": {
    "name": "ipython",
    "version": 3
   },
   "file_extension": ".py",
   "mimetype": "text/x-python",
   "name": "python",
   "nbconvert_exporter": "python",
   "pygments_lexer": "ipython3",
   "version": "3.13.0"
  }
 },
 "nbformat": 4,
 "nbformat_minor": 5
}
